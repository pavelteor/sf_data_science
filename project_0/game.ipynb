{
 "cells": [
  {
   "cell_type": "markdown",
   "metadata": {},
   "source": [
    "# Игра угадай число"
   ]
  },
  {
   "cell_type": "code",
   "execution_count": 113,
   "metadata": {},
   "outputs": [],
   "source": [
    "from game_v2 import score_game\n",
    "from game_v2 import random_predict\n"
   ]
  },
  {
   "cell_type": "markdown",
   "metadata": {},
   "source": [
    "## Угадываем рандомно"
   ]
  },
  {
   "cell_type": "code",
   "execution_count": 119,
   "metadata": {},
   "outputs": [
    {
     "name": "stdout",
     "output_type": "stream",
     "text": [
      "Ваш алгоритм угадывает число в среднем за: 101 попыток\n"
     ]
    },
    {
     "data": {
      "text/plain": [
       "101"
      ]
     },
     "execution_count": 119,
     "metadata": {},
     "output_type": "execute_result"
    }
   ],
   "source": [
    "score_game(random_predict)"
   ]
  },
  {
   "cell_type": "code",
   "execution_count": 10,
   "metadata": {},
   "outputs": [
    {
     "name": "stdout",
     "output_type": "stream",
     "text": [
      "Это число 45\n"
     ]
    }
   ],
   "source": [
    "import numpy as np\n",
    "\n",
    "def optimal_predict(number: int = 1) -> int:\n",
    "\n",
    "    min = 1\n",
    "    max = 101\n",
    "\n",
    "    number = np.random.randint(min, max)\n",
    "\n",
    "    while True:\n",
    "      \n",
    "        mid = (min+max) // 2\n",
    "    \n",
    "        if mid > number:\n",
    "          max = mid\n",
    "    \n",
    "        elif mid < number:\n",
    "          min = mid\n",
    "\n",
    "        else:\n",
    "            print(f\"Это число {number}\")\n",
    "            break\n",
    "optimal_predict()"
   ]
  }
 ],
 "metadata": {
  "interpreter": {
   "hash": "d9e9739ad85ba74e26e3ed1474342742173278503b76b5284b069ab57cf2167d"
  },
  "kernelspec": {
   "display_name": "Python 3.9.10 64-bit",
   "language": "python",
   "name": "python3"
  },
  "language_info": {
   "codemirror_mode": {
    "name": "ipython",
    "version": 3
   },
   "file_extension": ".py",
   "mimetype": "text/x-python",
   "name": "python",
   "nbconvert_exporter": "python",
   "pygments_lexer": "ipython3",
   "version": "3.9.10"
  },
  "orig_nbformat": 4
 },
 "nbformat": 4,
 "nbformat_minor": 2
}

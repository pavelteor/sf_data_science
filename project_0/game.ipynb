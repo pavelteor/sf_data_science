{
 "cells": [
  {
   "cell_type": "markdown",
   "metadata": {},
   "source": [
    "# Игра угадай число"
   ]
  },
  {
   "cell_type": "code",
   "execution_count": 26,
   "metadata": {},
   "outputs": [],
   "source": [
    "import game_v2"
   ]
  },
  {
   "cell_type": "code",
   "execution_count": 38,
   "metadata": {},
   "outputs": [
    {
     "name": "stdout",
     "output_type": "stream",
     "text": [
      "Ваш алгоритм угадывает число в среднем за: 101 попыток\n"
     ]
    },
    {
     "data": {
      "text/plain": [
       "101"
      ]
     },
     "execution_count": 38,
     "metadata": {},
     "output_type": "execute_result"
    }
   ],
   "source": [
    "game_v2.score_game(game_v2.random_predict)"
   ]
  },
  {
   "cell_type": "code",
   "execution_count": 41,
   "metadata": {},
   "outputs": [],
   "source": [
    "from game_v2 import score_game\n",
    "from game_v2 import random_predict\n"
   ]
  },
  {
   "cell_type": "markdown",
   "metadata": {},
   "source": [
    "## Угадываем рандомно"
   ]
  },
  {
   "cell_type": "code",
   "execution_count": 74,
   "metadata": {},
   "outputs": [
    {
     "name": "stdout",
     "output_type": "stream",
     "text": [
      "Ваш алгоритм угадывает число в среднем за: 101 попыток\n"
     ]
    },
    {
     "data": {
      "text/plain": [
       "101"
      ]
     },
     "execution_count": 74,
     "metadata": {},
     "output_type": "execute_result"
    }
   ],
   "source": [
    "score_game(random_predict)"
   ]
  },
  {
   "cell_type": "code",
   "execution_count": 78,
   "metadata": {},
   "outputs": [],
   "source": [
    "def optimal_predict(number: int = 1) -> int:\n",
    "    '''Игра компьютер угадает число меньше чем за 20 попыток'''\n",
    "\n",
    "    import numpy as np\n",
    "\n",
    "    min = 1\n",
    "    max = 101\n",
    "\n",
    "    number = np.random.randint(min, max)\n",
    "\n",
    "    count = 0\n",
    "\n",
    "    while True:\n",
    "        count+=1\n",
    "        mid = (min+max) // 2\n",
    "    \n",
    "        if mid > number:\n",
    "          max = mid\n",
    "    \n",
    "        elif mid < number:\n",
    "          min = mid\n",
    "\n",
    "        else:\n",
    "            print(f\"Компьютер угадал число за {count} попыток. Это число {number}\")\n",
    "            break #конец игры выход из цикла\n",
    "    return count"
   ]
  },
  {
   "cell_type": "code",
   "execution_count": 94,
   "metadata": {},
   "outputs": [],
   "source": [
    "def optimal_predict(number: int = 1) -> int:\n",
    "    '''Игра компьютер угадает число меньше чем за 20 попыток'''\n",
    "\n",
    "    \n",
    "\n",
    "    min = 1\n",
    "    max = 101\n",
    "\n",
    "    number = np.random.randint(min, max)\n",
    "\n",
    "    count = 0\n",
    "\n",
    "    while True:\n",
    "        count+=1\n",
    "        mid = (min+max) // 2\n",
    "    \n",
    "        if mid > number:\n",
    "          max = mid\n",
    "    \n",
    "        elif mid < number:\n",
    "          min = mid\n",
    "\n",
    "        else:\n",
    "            print(f\"Компьютер угадал число за {count} попыток. Это число {number}\")\n",
    "            break #конец игры выход из цикла\n",
    "    "
   ]
  }
 ],
 "metadata": {
  "interpreter": {
   "hash": "3d2c0440318bba635acbafab6314344df09a94d23aa8ec158f8701b2ab460d44"
  },
  "kernelspec": {
   "display_name": "Python 3.9.10 64-bit",
   "language": "python",
   "name": "python3"
  },
  "language_info": {
   "codemirror_mode": {
    "name": "ipython",
    "version": 3
   },
   "file_extension": ".py",
   "mimetype": "text/x-python",
   "name": "python",
   "nbconvert_exporter": "python",
   "pygments_lexer": "ipython3",
   "version": "3.9.10"
  },
  "orig_nbformat": 4
 },
 "nbformat": 4,
 "nbformat_minor": 2
}

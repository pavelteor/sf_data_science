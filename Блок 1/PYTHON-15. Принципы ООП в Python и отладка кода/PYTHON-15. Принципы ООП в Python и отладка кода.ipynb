{
 "cells": [
  {
   "cell_type": "code",
   "execution_count": 2,
   "metadata": {},
   "outputs": [],
   "source": [
    "class DepartmentReport():\n",
    "\n",
    "    def __init__(self,company):\n",
    "\n",
    "        \"\"\"\n",
    "        Метод инициализации класса. \n",
    "        Создаёт атрибуты revenues и company\n",
    "        \"\"\"\n",
    "        self.revenues = []\n",
    "        self.company = company\n",
    "    \n",
    "    def add_revenue(self, amount):\n",
    "        \"\"\"\n",
    "        Метод для добавления выручки отдела в список revenues.\n",
    "        Если атрибута revenues ещё не существует, метод должен создавать пустой список перед добавлением выручки.\n",
    "        \"\"\"\n",
    "        if not hasattr(self, 'revenues'):\n",
    "            self.revenues = []  \n",
    "        self.revenues.append(amount)\n",
    "    \n",
    "    def average_revenue(self):\n",
    "        \"\"\"\n",
    "        Вычисляет average_revenue — среднюю выручку по отделам — округляя до целого.\n",
    "        Метод возвращает строку в формате:\n",
    "        'Average department revenue for <company>: <average_revenue>'\n",
    "        \"\"\"\n",
    "        average= round(sum(self.revenues)/len(self.revenues))\n",
    "        return 'Average department revenue for {}: {}'.format(self.company,average)"
   ]
  },
  {
   "cell_type": "code",
   "execution_count": 3,
   "metadata": {},
   "outputs": [
    {
     "name": "stdout",
     "output_type": "stream",
     "text": [
      "Employee:  Ivan Semenov\n",
      "Total sales: 390000\n",
      "Average sales: 130000.0\n",
      "Companies: ['SkyEng', 'PepsiCo']\n"
     ]
    }
   ],
   "source": [
    "class SalesReport():  \n",
    "    def __init__(self, employee_name):  \n",
    "        self.deals = []  \n",
    "        self.employee_name = employee_name  \n",
    "      \n",
    "    def add_deal(self, company, amount):   \n",
    "        self.deals.append({'company': company, 'amount': amount})  \n",
    "          \n",
    "    def total_amount(self):  \n",
    "        return sum([deal['amount'] for deal in self.deals])  \n",
    "      \n",
    "    def average_deal(self):  \n",
    "        return self.total_amount()/len(self.deals)  \n",
    "      \n",
    "    def all_companies(self):  \n",
    "        return list(set([deal['company'] for deal in self.deals]))  \n",
    "      \n",
    "    def print_report(self):  \n",
    "        print(\"Employee: \", self.employee_name)  \n",
    "        print(\"Total sales:\", self.total_amount())  \n",
    "        print(\"Average sales:\", self.average_deal())  \n",
    "        print(\"Companies:\", self.all_companies())  \n",
    "      \n",
    "      \n",
    "report = SalesReport(\"Ivan Semenov\")  \n",
    "  \n",
    "report.add_deal(\"PepsiCo\", 120_000)  \n",
    "report.add_deal(\"SkyEng\", 250_000)  \n",
    "report.add_deal(\"PepsiCo\", 20_000)  \n",
    "  \n",
    "report.print_report()  \n",
    "# => Employee:  Ivan Semenov  \n",
    "# Total sales: 390000  \n",
    "# Average sales: 130000.0  \n",
    "# Companies: ['PepsiCo', 'SkyEng'] "
   ]
  },
  {
   "cell_type": "code",
   "execution_count": 4,
   "metadata": {},
   "outputs": [
    {
     "name": "stdout",
     "output_type": "stream",
     "text": [
      "Order price for max@gmail.com is 100\n",
      "Order price for lova@yandex.ru is 180.0\n",
      "Order price for german@sberbank.ru is 500\n",
      "Order price for german@sberbank.ru is 450.0\n"
     ]
    }
   ],
   "source": [
    "class Client():  \n",
    "    # Базовые данные  \n",
    "    def __init__(self, email, order_num, registration_year):  \n",
    "        self.email = email  \n",
    "        self.order_num = order_num  \n",
    "        self.registration_year = registration_year  \n",
    "        self.discount = 0  \n",
    "          \n",
    "    # Оформление заказа  \n",
    "    def make_order(self, price):  \n",
    "        self.update_discount()  \n",
    "        self.order_num += 1  \n",
    "        # Здесь было бы оформление заказа, но мы просто выведем его цену  \n",
    "        discounted_price = price * (1 - self.discount)   \n",
    "        print(f\"Order price for {self.email} is {discounted_price}\")  \n",
    "              \n",
    "    # Назначение скидки  \n",
    "    def update_discount(self):   \n",
    "        if self.registration_year < 2018 and self.order_num >= 5:  \n",
    "            self.discount = 0.1   \n",
    "              \n",
    "  \n",
    "# Применение  \n",
    "          \n",
    "# Сделаем подобие базы  \n",
    "client_db = [   \n",
    "    Client(\"max@gmail.com\", 2, 2019),  \n",
    "    Client(\"lova@yandex.ru\", 10, 2015),  \n",
    "    Client(\"german@sberbank.ru\", 4, 2017)  \n",
    "]  \n",
    "  \n",
    "  \n",
    "# Сгенерируем заказы  \n",
    "client_db[0].make_order(100)  \n",
    "# => Order price for max@gmail.com is 100  \n",
    "  \n",
    "client_db[1].make_order(200)  \n",
    "# => Order price for lova@yandex.ru is 180.0  \n",
    "  \n",
    "client_db[2].make_order(500)  \n",
    "# => Order price for german@sberbank.ru is 500  \n",
    "  \n",
    "client_db[2].make_order(500)  \n",
    "# => Order price for german@sberbank.ru is 450.0 "
   ]
  },
  {
   "cell_type": "code",
   "execution_count": 5,
   "metadata": {},
   "outputs": [
    {
     "name": "stdout",
     "output_type": "stream",
     "text": [
      "19700\n"
     ]
    }
   ],
   "source": [
    "class User():\n",
    "    def __init__(self, email, password, balance):\n",
    "        self.email=email\n",
    "        self.password=password\n",
    "        self.balance=balance\n",
    "        update_balance=0\n",
    "     \n",
    "    def login(self, email, password):\n",
    "        if self.email==email and self.password==password:\n",
    "            answer=True\n",
    "        else:\n",
    "            answer=False\n",
    "        return answer\n",
    "    \n",
    "    def update_balance(self, amount):\n",
    "        self.balance+=amount\n",
    "        return self.balance\n",
    "    \n",
    "    \n",
    "user = User(\"gosha@roskino.org\", \"qwerty\", 20_000)\n",
    "user.login(\"gosha@roskino.org\", \"qwerty123\")\n",
    "# => False\n",
    "user.login(\"gosha@roskino.org\", \"qwerty\")\n",
    "# => True\n",
    "user.update_balance(200)\n",
    "user.update_balance(-500)\n",
    "print(user.balance)\n",
    "# => 19700"
   ]
  },
  {
   "cell_type": "code",
   "execution_count": 6,
   "metadata": {},
   "outputs": [
    {
     "name": "stdout",
     "output_type": "stream",
     "text": [
      "[1.0, 17.0, 4.0, 0.0, 8.0]\n",
      "6.892024376045111\n",
      "4.0\n"
     ]
    }
   ],
   "source": [
    "import statistics  \n",
    "  \n",
    "class DataFrame():  \n",
    "    def __init__(self, column, fill_value=0):  \n",
    "        # Инициализируем атрибуты  \n",
    "        self.column = column  \n",
    "        self.fill_value = fill_value  \n",
    "        # Заполним пропуски  \n",
    "        self.fill_missed()  \n",
    "        # Конвертируем все элементы в числа  \n",
    "        self.to_float()  \n",
    "          \n",
    "    def fill_missed(self):  \n",
    "        for i, value in enumerate(self.column):  \n",
    "            if value is None or value == '':  \n",
    "                self.column[i] = self.fill_value  \n",
    "                  \n",
    "    def to_float(self):  \n",
    "        self.column = [float(value) for value in self.column]  \n",
    "      \n",
    "    def median(self):  \n",
    "        return statistics.median(self.column)  \n",
    "      \n",
    "    def mean(self):  \n",
    "        return statistics.mean(self.column)  \n",
    "      \n",
    "    def deviation(self):  \n",
    "        return statistics.stdev(self.column)  \n",
    "      \n",
    "  \n",
    "      \n",
    "# Воспользуемся классом  \n",
    "df = DataFrame([\"1\", 17, 4, None, 8])  \n",
    "  \n",
    "print(df.column)  \n",
    "# => [1.0, 17.0, 4.0, 0.0, 8.0]  \n",
    "print(df.deviation())  \n",
    "# => 6.89  \n",
    "print(df.median())  \n",
    "# => 4.0  "
   ]
  },
  {
   "cell_type": "code",
   "execution_count": 7,
   "metadata": {},
   "outputs": [],
   "source": [
    "class IntDataFrame():\n",
    "    def __init__(self, column):\n",
    "        self.column=column\n",
    "        self.to_int()\n",
    "        \n",
    "    def to_int(self):\n",
    "        self.column=[int(value) for value in self.column]\n",
    "    \n",
    "    def count(self):\n",
    "        j=0\n",
    "        for i, value in enumerate(self.column):\n",
    "            if value>0:\n",
    "                j+=1\n",
    "        return j\n",
    "    \n",
    "    def unique(self):\n",
    "        uniq=[]\n",
    "        for i, value in enumerate(self.column):\n",
    "            if value in uniq:\n",
    "                continue\n",
    "            else:\n",
    "                uniq.append(value)\n",
    "        return len(uniq)"
   ]
  },
  {
   "cell_type": "code",
   "execution_count": 8,
   "metadata": {},
   "outputs": [
    {
     "ename": "FileNotFoundError",
     "evalue": "[Errno 2] No such file or directory: 'archive/22-07-11.pkl'",
     "output_type": "error",
     "traceback": [
      "\u001b[1;31m---------------------------------------------------------------------------\u001b[0m",
      "\u001b[1;31mFileNotFoundError\u001b[0m                         Traceback (most recent call last)",
      "\u001b[1;32mc:\\Users\\pavel\\OneDrive\\Desktop\\Pavel\\IDE\\PYTHON-15. Принципы ООП в Python и отладка кода\\PYTHON-15. Принципы ООП в Python и отладка кода.ipynb Cell 7'\u001b[0m in \u001b[0;36m<cell line: 37>\u001b[1;34m()\u001b[0m\n\u001b[0;32m     <a href='vscode-notebook-cell:/c%3A/Users/pavel/OneDrive/Desktop/Pavel/IDE/PYTHON-15.%20%D0%9F%D1%80%D0%B8%D0%BD%D1%86%D0%B8%D0%BF%D1%8B%20%D0%9E%D0%9E%D0%9F%20%D0%B2%20Python%20%D0%B8%20%D0%BE%D1%82%D0%BB%D0%B0%D0%B4%D0%BA%D0%B0%20%D0%BA%D0%BE%D0%B4%D0%B0/PYTHON-15.%20%D0%9F%D1%80%D0%B8%D0%BD%D1%86%D0%B8%D0%BF%D1%8B%20%D0%9E%D0%9E%D0%9F%20%D0%B2%20Python%20%D0%B8%20%D0%BE%D1%82%D0%BB%D0%B0%D0%B4%D0%BA%D0%B0%20%D0%BA%D0%BE%D0%B4%D0%B0.ipynb#ch0000006?line=33'>34</a>\u001b[0m dumper \u001b[39m=\u001b[39m Dumper()  \n\u001b[0;32m     <a href='vscode-notebook-cell:/c%3A/Users/pavel/OneDrive/Desktop/Pavel/IDE/PYTHON-15.%20%D0%9F%D1%80%D0%B8%D0%BD%D1%86%D0%B8%D0%BF%D1%8B%20%D0%9E%D0%9E%D0%9F%20%D0%B2%20Python%20%D0%B8%20%D0%BE%D1%82%D0%BB%D0%B0%D0%B4%D0%BA%D0%B0%20%D0%BA%D0%BE%D0%B4%D0%B0/PYTHON-15.%20%D0%9F%D1%80%D0%B8%D0%BD%D1%86%D0%B8%D0%BF%D1%8B%20%D0%9E%D0%9E%D0%9F%20%D0%B2%20Python%20%D0%B8%20%D0%BE%D1%82%D0%BB%D0%B0%D0%B4%D0%BA%D0%B0%20%D0%BA%D0%BE%D0%B4%D0%B0.ipynb#ch0000006?line=35'>36</a>\u001b[0m \u001b[39m# Сохраним данные  \u001b[39;00m\n\u001b[1;32m---> <a href='vscode-notebook-cell:/c%3A/Users/pavel/OneDrive/Desktop/Pavel/IDE/PYTHON-15.%20%D0%9F%D1%80%D0%B8%D0%BD%D1%86%D0%B8%D0%BF%D1%8B%20%D0%9E%D0%9E%D0%9F%20%D0%B2%20Python%20%D0%B8%20%D0%BE%D1%82%D0%BB%D0%B0%D0%B4%D0%BA%D0%B0%20%D0%BA%D0%BE%D0%B4%D0%B0/PYTHON-15.%20%D0%9F%D1%80%D0%B8%D0%BD%D1%86%D0%B8%D0%BF%D1%8B%20%D0%9E%D0%9E%D0%9F%20%D0%B2%20Python%20%D0%B8%20%D0%BE%D1%82%D0%BB%D0%B0%D0%B4%D0%BA%D0%B0%20%D0%BA%D0%BE%D0%B4%D0%B0.ipynb#ch0000006?line=36'>37</a>\u001b[0m dumper\u001b[39m.\u001b[39;49mdump(data)  \n\u001b[0;32m     <a href='vscode-notebook-cell:/c%3A/Users/pavel/OneDrive/Desktop/Pavel/IDE/PYTHON-15.%20%D0%9F%D1%80%D0%B8%D0%BD%D1%86%D0%B8%D0%BF%D1%8B%20%D0%9E%D0%9E%D0%9F%20%D0%B2%20Python%20%D0%B8%20%D0%BE%D1%82%D0%BB%D0%B0%D0%B4%D0%BA%D0%B0%20%D0%BA%D0%BE%D0%B4%D0%B0/PYTHON-15.%20%D0%9F%D1%80%D0%B8%D0%BD%D1%86%D0%B8%D0%BF%D1%8B%20%D0%9E%D0%9E%D0%9F%20%D0%B2%20Python%20%D0%B8%20%D0%BE%D1%82%D0%BB%D0%B0%D0%B4%D0%BA%D0%B0%20%D0%BA%D0%BE%D0%B4%D0%B0.ipynb#ch0000006?line=38'>39</a>\u001b[0m \u001b[39m# Восстановим для сегодняшней даты  \u001b[39;00m\n\u001b[0;32m     <a href='vscode-notebook-cell:/c%3A/Users/pavel/OneDrive/Desktop/Pavel/IDE/PYTHON-15.%20%D0%9F%D1%80%D0%B8%D0%BD%D1%86%D0%B8%D0%BF%D1%8B%20%D0%9E%D0%9E%D0%9F%20%D0%B2%20Python%20%D0%B8%20%D0%BE%D1%82%D0%BB%D0%B0%D0%B4%D0%BA%D0%B0%20%D0%BA%D0%BE%D0%B4%D0%B0/PYTHON-15.%20%D0%9F%D1%80%D0%B8%D0%BD%D1%86%D0%B8%D0%BF%D1%8B%20%D0%9E%D0%9E%D0%9F%20%D0%B2%20Python%20%D0%B8%20%D0%BE%D1%82%D0%BB%D0%B0%D0%B4%D0%BA%D0%B0%20%D0%BA%D0%BE%D0%B4%D0%B0.ipynb#ch0000006?line=39'>40</a>\u001b[0m file_name \u001b[39m=\u001b[39m datetime\u001b[39m.\u001b[39mnow()\u001b[39m.\u001b[39mstrftime(\u001b[39m\"\u001b[39m\u001b[39m%\u001b[39m\u001b[39my-\u001b[39m\u001b[39m%\u001b[39m\u001b[39mm-\u001b[39m\u001b[39m%d\u001b[39;00m\u001b[39m\"\u001b[39m)\n",
      "\u001b[1;32mc:\\Users\\pavel\\OneDrive\\Desktop\\Pavel\\IDE\\PYTHON-15. Принципы ООП в Python и отладка кода\\PYTHON-15. Принципы ООП в Python и отладка кода.ipynb Cell 7'\u001b[0m in \u001b[0;36mDumper.dump\u001b[1;34m(self, data)\u001b[0m\n\u001b[0;32m      <a href='vscode-notebook-cell:/c%3A/Users/pavel/OneDrive/Desktop/Pavel/IDE/PYTHON-15.%20%D0%9F%D1%80%D0%B8%D0%BD%D1%86%D0%B8%D0%BF%D1%8B%20%D0%9E%D0%9E%D0%9F%20%D0%B2%20Python%20%D0%B8%20%D0%BE%D1%82%D0%BB%D0%B0%D0%B4%D0%BA%D0%B0%20%D0%BA%D0%BE%D0%B4%D0%B0/PYTHON-15.%20%D0%9F%D1%80%D0%B8%D0%BD%D1%86%D0%B8%D0%BF%D1%8B%20%D0%9E%D0%9E%D0%9F%20%D0%B2%20Python%20%D0%B8%20%D0%BE%D1%82%D0%BB%D0%B0%D0%B4%D0%BA%D0%B0%20%D0%BA%D0%BE%D0%B4%D0%B0.ipynb#ch0000006?line=8'>9</a>\u001b[0m \u001b[39mdef\u001b[39;00m \u001b[39mdump\u001b[39m(\u001b[39mself\u001b[39m, data):  \n\u001b[0;32m     <a href='vscode-notebook-cell:/c%3A/Users/pavel/OneDrive/Desktop/Pavel/IDE/PYTHON-15.%20%D0%9F%D1%80%D0%B8%D0%BD%D1%86%D0%B8%D0%BF%D1%8B%20%D0%9E%D0%9E%D0%9F%20%D0%B2%20Python%20%D0%B8%20%D0%BE%D1%82%D0%BB%D0%B0%D0%B4%D0%BA%D0%B0%20%D0%BA%D0%BE%D0%B4%D0%B0/PYTHON-15.%20%D0%9F%D1%80%D0%B8%D0%BD%D1%86%D0%B8%D0%BF%D1%8B%20%D0%9E%D0%9E%D0%9F%20%D0%B2%20Python%20%D0%B8%20%D0%BE%D1%82%D0%BB%D0%B0%D0%B4%D0%BA%D0%B0%20%D0%BA%D0%BE%D0%B4%D0%B0.ipynb#ch0000006?line=9'>10</a>\u001b[0m     \u001b[39m# Библиотека pickle позволяет доставать и класть объекты в файл  \u001b[39;00m\n\u001b[1;32m---> <a href='vscode-notebook-cell:/c%3A/Users/pavel/OneDrive/Desktop/Pavel/IDE/PYTHON-15.%20%D0%9F%D1%80%D0%B8%D0%BD%D1%86%D0%B8%D0%BF%D1%8B%20%D0%9E%D0%9E%D0%9F%20%D0%B2%20Python%20%D0%B8%20%D0%BE%D1%82%D0%BB%D0%B0%D0%B4%D0%BA%D0%B0%20%D0%BA%D0%BE%D0%B4%D0%B0/PYTHON-15.%20%D0%9F%D1%80%D0%B8%D0%BD%D1%86%D0%B8%D0%BF%D1%8B%20%D0%9E%D0%9E%D0%9F%20%D0%B2%20Python%20%D0%B8%20%D0%BE%D1%82%D0%BB%D0%B0%D0%B4%D0%BA%D0%B0%20%D0%BA%D0%BE%D0%B4%D0%B0.ipynb#ch0000006?line=10'>11</a>\u001b[0m     \u001b[39mwith\u001b[39;00m \u001b[39mopen\u001b[39;49m(\u001b[39mself\u001b[39;49m\u001b[39m.\u001b[39;49mget_file_name(), \u001b[39m'\u001b[39;49m\u001b[39mwb\u001b[39;49m\u001b[39m'\u001b[39;49m) \u001b[39mas\u001b[39;00m file:  \n\u001b[0;32m     <a href='vscode-notebook-cell:/c%3A/Users/pavel/OneDrive/Desktop/Pavel/IDE/PYTHON-15.%20%D0%9F%D1%80%D0%B8%D0%BD%D1%86%D0%B8%D0%BF%D1%8B%20%D0%9E%D0%9E%D0%9F%20%D0%B2%20Python%20%D0%B8%20%D0%BE%D1%82%D0%BB%D0%B0%D0%B4%D0%BA%D0%B0%20%D0%BA%D0%BE%D0%B4%D0%B0/PYTHON-15.%20%D0%9F%D1%80%D0%B8%D0%BD%D1%86%D0%B8%D0%BF%D1%8B%20%D0%9E%D0%9E%D0%9F%20%D0%B2%20Python%20%D0%B8%20%D0%BE%D1%82%D0%BB%D0%B0%D0%B4%D0%BA%D0%B0%20%D0%BA%D0%BE%D0%B4%D0%B0.ipynb#ch0000006?line=11'>12</a>\u001b[0m         pickle\u001b[39m.\u001b[39mdump(data, file)\n",
      "\u001b[1;31mFileNotFoundError\u001b[0m: [Errno 2] No such file or directory: 'archive/22-07-11.pkl'"
     ]
    }
   ],
   "source": [
    "import pickle  \n",
    "from datetime import datetime  \n",
    "from os import path  \n",
    "  \n",
    "class Dumper():  \n",
    "    def __init__(self, archive_dir=\"archive/\"):  \n",
    "        self.archive_dir = archive_dir  \n",
    "          \n",
    "    def dump(self, data):  \n",
    "        # Библиотека pickle позволяет доставать и класть объекты в файл  \n",
    "        with open(self.get_file_name(), 'wb') as file:  \n",
    "            pickle.dump(data, file)  \n",
    "              \n",
    "    def load_for_day(self, day):  \n",
    "        file_name = path.join(self.archive_dir, day + \".pkl\")   \n",
    "        with open(file_name, 'rb') as file:  \n",
    "            sets = pickle.load(file)  \n",
    "        return sets  \n",
    "          \n",
    "    # возвращает корректное имя для файла   \n",
    "    def get_file_name(self):   \n",
    "        today = datetime.now().strftime(\"%y-%m-%d\")   \n",
    "        return path.join(self.archive_dir, today + \".pkl\")  \n",
    "      \n",
    "      \n",
    "# Пример использования  \n",
    "  \n",
    "data = {  \n",
    "    'perfomance': [10, 20, 10],  \n",
    "    'clients': {\"Romashka\": 10, \"Vector\": 34}  \n",
    "}  \n",
    "  \n",
    "  \n",
    "dumper = Dumper()  \n",
    "  \n",
    "# Сохраним данные  \n",
    "dumper.dump(data)  \n",
    "  \n",
    "# Восстановим для сегодняшней даты  \n",
    "file_name = datetime.now().strftime(\"%y-%m-%d\")\n",
    "restored_data = dumper.load_for_day(file_name)\n",
    "print(restored_data)  \n",
    "# => {'perfomance': [10, 20, 10], 'clients': {'Romashka': 10, 'Vector': 34}}  "
   ]
  },
  {
   "cell_type": "code",
   "execution_count": null,
   "metadata": {},
   "outputs": [],
   "source": [
    "class OwnLogger():\n",
    "   def __init__(self):\n",
    "       self.logs = {\"info\": None, \"warning\": None, \"error\": None, \"all\": None}\n",
    "   def log(self, message, level):\n",
    "       self.logs[level] = message\n",
    "       self.logs['all'] = message\n",
    "   def show_last(self, level='all'):\n",
    "       return self.logs[level]"
   ]
  },
  {
   "cell_type": "code",
   "execution_count": null,
   "metadata": {},
   "outputs": [],
   "source": [
    "class Dog():    \n",
    "    def bark(*args):\n",
    "        return 'Bark!'\n",
    "    \n",
    "    def give_paw(*args):\n",
    "        return 'Paw'"
   ]
  },
  {
   "cell_type": "markdown",
   "metadata": {},
   "source": [
    "Применение ООП для работы с файлами"
   ]
  },
  {
   "cell_type": "code",
   "execution_count": null,
   "metadata": {},
   "outputs": [
    {
     "name": "stdout",
     "output_type": "stream",
     "text": [
      "c:\\Users\\pavel\\OneDrive\\Desktop\\Pavel\\IDE\\PYTHON-15. Принципы ООП в Python и отладка кода\n"
     ]
    }
   ],
   "source": [
    "# получить текущий путь\n",
    "start_path = os.getcwd()\n",
    "print(start_path) # /home/nbuser/library"
   ]
  },
  {
   "cell_type": "code",
   "execution_count": null,
   "metadata": {},
   "outputs": [
    {
     "data": {
      "text/plain": [
       "'c:\\\\Users\\\\pavel\\\\OneDrive\\\\Desktop\\\\Pavel\\\\IDE'"
      ]
     },
     "execution_count": 4,
     "metadata": {},
     "output_type": "execute_result"
    }
   ],
   "source": [
    "#Далее попробуем подняться на директорию выше:\n",
    "\n",
    "os.chdir(\"..\") # подняться на один уровень выше\n",
    "os.getcwd() # '/home/nbuser'"
   ]
  },
  {
   "cell_type": "code",
   "execution_count": null,
   "metadata": {},
   "outputs": [
    {
     "data": {
      "text/plain": [
       "'c:\\\\Users\\\\pavel\\\\OneDrive\\\\Desktop\\\\Pavel'"
      ]
     },
     "execution_count": 5,
     "metadata": {},
     "output_type": "execute_result"
    }
   ],
   "source": [
    "#Далее попробуем подняться на директорию выше:\n",
    "\n",
    "os.chdir(\"..\") # подняться на один уровень выше\n",
    "os.getcwd() # '/home/nbuser'"
   ]
  },
  {
   "cell_type": "code",
   "execution_count": null,
   "metadata": {},
   "outputs": [
    {
     "name": "stdout",
     "output_type": "stream",
     "text": [
      "['IDE', 'New Folder', 'New Text Document.txt', 'Конспекты', 'Справочник по языку.odt']\n",
      "Файл отсутствует в данной директории\n"
     ]
    }
   ],
   "source": [
    "# список файлов и директорий в папке\n",
    "import os\n",
    "\n",
    "print(os.listdir()) # ['SnapchatLoader', 'FBLoader', 'tmp.py', '.gitignore', 'venv', '.git']\n",
    "\n",
    "if 'tmp.py' not in os.listdir():\n",
    "    print(\"Файл отсутствует в данной директории\")"
   ]
  },
  {
   "cell_type": "code",
   "execution_count": null,
   "metadata": {},
   "outputs": [
    {
     "name": "stdout",
     "output_type": "stream",
     "text": [
      "c:\\Users\\pavel\\OneDrive\\Desktop\\Pavel\\IDE\\PYTHON-15. Принципы ООП в Python и отладка кода\n",
      "c:\\Users\\pavel\\OneDrive\\Desktop\\Pavel\\IDE\\PYTHON-15. Принципы ООП в Python и отладка кода\\test\n"
     ]
    }
   ],
   "source": [
    "# соединяет пути с учётом особенностей операционной системы\n",
    "print(start_path)\n",
    "print(os.path.join(start_path, 'test'))\n",
    "\n",
    "# /home/nbuser/library\n",
    "# /home/nbuser/library/test"
   ]
  },
  {
   "cell_type": "code",
   "execution_count": null,
   "metadata": {},
   "outputs": [
    {
     "ename": "ValueError",
     "evalue": "invalid mode: 'filemode'",
     "output_type": "error",
     "traceback": [
      "\u001b[1;31m---------------------------------------------------------------------------\u001b[0m",
      "\u001b[1;31mValueError\u001b[0m                                Traceback (most recent call last)",
      "\u001b[1;32mc:\\Users\\pavel\\OneDrive\\Desktop\\Pavel\\IDE\\PYTHON-15. Принципы ООП в Python и отладка кода\\PYTHON-15. Принципы ООП в Python и отладка кода.ipynb Cell 3'\u001b[0m in \u001b[0;36m<cell line: 1>\u001b[1;34m()\u001b[0m\n\u001b[1;32m----> <a href='vscode-notebook-cell:/c%3A/Users/pavel/OneDrive/Desktop/Pavel/IDE/PYTHON-15.%20%D0%9F%D1%80%D0%B8%D0%BD%D1%86%D0%B8%D0%BF%D1%8B%20%D0%9E%D0%9E%D0%9F%20%D0%B2%20Python%20%D0%B8%20%D0%BE%D1%82%D0%BB%D0%B0%D0%B4%D0%BA%D0%B0%20%D0%BA%D0%BE%D0%B4%D0%B0/PYTHON-15.%20%D0%9F%D1%80%D0%B8%D0%BD%D1%86%D0%B8%D0%BF%D1%8B%20%D0%9E%D0%9E%D0%9F%20%D0%B2%20Python%20%D0%B8%20%D0%BE%D1%82%D0%BB%D0%B0%D0%B4%D0%BA%D0%B0%20%D0%BA%D0%BE%D0%B4%D0%B0.ipynb#ch0000002?line=0'>1</a>\u001b[0m f \u001b[39m=\u001b[39m \u001b[39mopen\u001b[39;49m(\u001b[39m'\u001b[39;49m\u001b[39mpath/to/file\u001b[39;49m\u001b[39m'\u001b[39;49m, \u001b[39m'\u001b[39;49m\u001b[39mfilemode\u001b[39;49m\u001b[39m'\u001b[39;49m, encoding\u001b[39m=\u001b[39;49m\u001b[39m'\u001b[39;49m\u001b[39mutf8\u001b[39;49m\u001b[39m'\u001b[39;49m)\n",
      "\u001b[1;31mValueError\u001b[0m: invalid mode: 'filemode'"
     ]
    }
   ],
   "source": [
    "f = open('path/to/file', 'filemode', encoding='utf8')"
   ]
  },
  {
   "cell_type": "code",
   "execution_count": null,
   "metadata": {},
   "outputs": [],
   "source": [
    "#Создайте любой файл на операционной системе под название input.txt и построчно перепишите его в файл output.txt.\n",
    "with open(\"input.txt\", \"r\") as input_file:\n",
    "    with open(\"output.txt\", \"w\") as output_file:\n",
    "        for line in input_file:\n",
    "            output_file.write(line)"
   ]
  },
  {
   "cell_type": "code",
   "execution_count": null,
   "metadata": {},
   "outputs": [],
   "source": [
    "#Дан файл numbers.txt, компоненты которого являются действительными числами (файл создайте самостоятельно и заполните любыми числам, в одной строке одно число). Найдите сумму наибольшего и наименьшего из значений и запишите результат в файл output.txt.\n",
    "filename = 'numbers.txt'\n",
    "output = 'output.txt'\n",
    "\n",
    "with open(filename) as f:\n",
    "    min_ = max_ = float(f.readline())  # считали первое число\n",
    "    for line in f:\n",
    "        num =  float(line)\n",
    "        if num > max_:\n",
    "            max_ = num\n",
    "        elif num < min_:\n",
    "            min_ = num\n",
    "\n",
    "    sum_ = min_ + max_\n",
    "\n",
    "with open(output, 'w') as f:\n",
    "    f.write(str(sum_))\n",
    "    f.write('\\n')"
   ]
  },
  {
   "cell_type": "code",
   "execution_count": null,
   "metadata": {},
   "outputs": [],
   "source": [
    "#В текстовый файл построчно записаны фамилии и имена учащихся класса и их оценки за контрольную. Подсчитайте количество учащихся, чья оценка меньше 3 баллов. Cодержание файла:\n",
    "Иванов О. 4\n",
    "Петров И. 3\n",
    "Дмитриев Н. 2\n",
    "Смирнова О. 4\n",
    "Керченских В. 5\n",
    "Котов Д. 2\n",
    "Бирюкова Н. 1\n",
    "Данилов П. 3\n",
    "Аранских В. 5\n",
    "Лемонов Ю. 2\n",
    "Олегова К. 4\n",
    "\n",
    "count = 0\n",
    "for line in open(\"input.txt\"):\n",
    "    points = int(line.split()[-1])\n",
    "    if points < 3:\n",
    "        count += 1"
   ]
  },
  {
   "cell_type": "code",
   "execution_count": null,
   "metadata": {},
   "outputs": [],
   "source": [
    "#Выполните реверсирование строк файла (перестановку строк файла в обратном порядке).\n",
    "with open(\"input.txt\", \"r\") as input_file:\n",
    "    with open(\"output.txt\", \"w\") as output_file:\n",
    "        for line in reversed(input_file.readlines()):\n",
    "            output_file.write(line)"
   ]
  },
  {
   "cell_type": "markdown",
   "metadata": {},
   "source": [
    "8. Исключения"
   ]
  },
  {
   "cell_type": "markdown",
   "metadata": {},
   "source": [
    "print(\"Перед исключением\")\n",
    "c = 1 / 0  # Здесь что-то не так….\n",
    "print(\"После исключения\")"
   ]
  },
  {
   "cell_type": "markdown",
   "metadata": {},
   "source": [
    "try:  # Добавляем конструкцию try-except для отлова нашей ошибки\n",
    "    print(\"Перед исключением\")\n",
    "    # теперь пользователь сам вводит числа для деления\n",
    "    a = int(input(\"a: \"))\n",
    "    b = int(input(\"b: \"))\n",
    "    c = a / b  # здесь может возникнуть исключение деления на ноль\n",
    "    print(c)  # печатаем c = a / b если всё хорошо\n",
    "except ZeroDivisionError as e: # Добавляем тип именно той ошибки, которую хотим отловить.     \n",
    "    print(e)  # Выводим информацию об ошибке\n",
    "    print(\"После исключения\")\n",
    " \n",
    "print(\"После После исключения\")"
   ]
  },
  {
   "cell_type": "code",
   "execution_count": null,
   "metadata": {},
   "outputs": [
    {
     "ename": "SyntaxError",
     "evalue": "invalid syntax (828828766.py, line 2)",
     "output_type": "error",
     "traceback": [
      "\u001b[1;36m  Input \u001b[1;32mIn [1]\u001b[1;36m\u001b[0m\n\u001b[1;33m    *ваш код*\u001b[0m\n\u001b[1;37m         ^\u001b[0m\n\u001b[1;31mSyntaxError\u001b[0m\u001b[1;31m:\u001b[0m invalid syntax\n"
     ]
    }
   ],
   "source": [
    "try:\n",
    "    *ваш код*\n",
    "except Ошибка:\n",
    "    *Код отлова*\n",
    "else:\n",
    "    *Код, который выполнится если всё хорошо прошло в блоке try*\n",
    "finally:\n",
    "    *Код, который выполнится по любому*"
   ]
  },
  {
   "cell_type": "markdown",
   "metadata": {},
   "source": [
    "try:\n",
    "    print(\"Перед исключением\")\n",
    "    a = int(input(\"a: \"))\n",
    "    b = int(input(\"b: \"))\n",
    "    c = a / b\n",
    "    print(c)  # печатаем c = a / b если всё хорошо\n",
    "except ZeroDivisionError as e:\n",
    "    print(\"После исключения\")\n",
    "else:  # код в блоке else выполняется только в том случае, если код в блоке try выполнился успешно (т.е. не вылетело никакого исключения).\n",
    "    print(\"Всё ништяк\")\n",
    "finally:  # код в блоке finally выполнится в любом случае, при выходе из try-except\n",
    "    print(\"Finally на месте\")\n",
    " \n",
    "print(\"После После исключения\")"
   ]
  },
  {
   "cell_type": "code",
   "execution_count": null,
   "metadata": {},
   "outputs": [],
   "source": [
    "Задание на самопроверку.\n",
    "\n",
    "Создать скрипт, который будет в input() принимать строки, и их необходимо будет конвертировать в числа, добавить try-except на то, чтобы строки могли быть сконвертированы в числа.\n",
    "\n",
    "В случае удачного выполнения скрипта написать: «Вы ввели <введённое число>».\n",
    "\n",
    "В конце скрипта обязательно написать: «Выход из программы».\n",
    "\n",
    "ПРИМЕЧАНИЕ: Для отлова ошибок используйте try-except, а также блоки finally и else.\n",
    "\n",
    "Примеры входов и выходов:\n",
    "\n",
    "Входные данные\tВыходные данные\n",
    "\n",
    "1\t\n",
    "Вы ввели 1\n",
    "\n",
    "Выход из программы\n",
    "\n",
    "-3\t\n",
    "Вы ввели -3\n",
    "\n",
    "Выход из программы\n",
    "\n",
    "razdvatri\t\n",
    "Вы ввели неправильное число\n",
    "\n",
    "Выход из программы"
   ]
  },
  {
   "cell_type": "markdown",
   "metadata": {},
   "source": [
    "try:\n",
    "    i = int(input('Введите число:\\t'))\n",
    "except ValueError as e:\n",
    "    print('Вы ввели неправильное число')\n",
    "else:\n",
    "    print(f'Вы ввели {i}')\n",
    "finally:\n",
    "    print('Выход из программы')"
   ]
  }
 ],
 "metadata": {
  "kernelspec": {
   "display_name": "Python 3.9.10 64-bit",
   "language": "python",
   "name": "python3"
  },
  "language_info": {
   "codemirror_mode": {
    "name": "ipython",
    "version": 3
   },
   "file_extension": ".py",
   "mimetype": "text/x-python",
   "name": "python",
   "nbconvert_exporter": "python",
   "pygments_lexer": "ipython3",
   "version": "3.9.10"
  },
  "orig_nbformat": 4,
  "vscode": {
   "interpreter": {
    "hash": "d9e9739ad85ba74e26e3ed1474342742173278503b76b5284b069ab57cf2167d"
   }
  }
 },
 "nbformat": 4,
 "nbformat_minor": 2
}
